{
 "cells": [
  {
   "cell_type": "code",
   "execution_count": 7,
   "id": "45a32c35",
   "metadata": {},
   "outputs": [
    {
     "name": "stdout",
     "output_type": "stream",
     "text": [
      "Sorted list: [19, 19, 20, 22, 24, 24, 24, 25, 25, 26]\n",
      "Min age: 19\n",
      "Max age: 26\n",
      "Appended list: [19, 19, 20, 22, 24, 24, 24, 25, 25, 26, 19, 26]\n",
      "Mid: 6\n",
      "Median: 24\n",
      "Average: 22.75\n",
      "Range: 7\n"
     ]
    }
   ],
   "source": [
    "#Q1.\n",
    "\n",
    "ages = [19, 22, 19, 24, 20, 25, 26, 24, 25, 24]\n",
    "\n",
    "#sort ages\n",
    "ages.sort()\n",
    "print(\"Sorted list:\",ages)\n",
    "\n",
    "#finding min\n",
    "min=ages[0]\n",
    "\n",
    "#finding max\n",
    "last_index=len(ages)-1\n",
    "max=ages[last_index]\n",
    "\n",
    "print(\"Min age:\",min)\n",
    "print(\"Max age:\",max)\n",
    "\n",
    "#Adding min and max to list\n",
    "ages.append(min)\n",
    "ages.append(max)\n",
    "print(\"Appended list:\",ages)\n",
    "\n",
    "#finding median\n",
    "mid = len(ages)//2\n",
    "print(\"Mid:\",mid)\n",
    "median=ages[mid]\n",
    "print(\"Median:\",median)\n",
    "\n",
    "#finding average\n",
    "avg=sum(ages)/len(ages)\n",
    "print(\"Average:\",avg)\n",
    "\n",
    "#finding range\n",
    "range=max-min\n",
    "print(\"Range:\",range)"
   ]
  },
  {
   "cell_type": "code",
   "execution_count": 8,
   "id": "72cf58e5",
   "metadata": {},
   "outputs": [
    {
     "name": "stdout",
     "output_type": "stream",
     "text": [
      "{'name': 'browny', 'color': 'brown', 'breed': 'pug', 'legs': '4', 'age': '3'}\n",
      "student_dictionary: {'first_name': 'Saranya', 'last_name': 'Tammana', 'gender': 'F', 'age': '26', 'marital status': 'M', 'skills': ['Java', 'SQL', 'Python'], 'country': 'US', 'city': 'KC', 'address': {'street': 'Metcalf ave', 'zipcode': '66223'}}\n",
      "9\n",
      "['Java', 'SQL', 'Python']\n",
      "<class 'list'>\n",
      "{'first_name': 'Saranya', 'last_name': 'Tammana', 'gender': 'F', 'age': '26', 'marital status': 'M', 'skills': ['Java', 'SQL', 'Python', 'HTML'], 'country': 'US', 'city': 'KC', 'address': {'street': 'Metcalf ave', 'zipcode': '66223'}}\n",
      "dict_keys(['first_name', 'last_name', 'gender', 'age', 'marital status', 'skills', 'country', 'city', 'address'])\n",
      "dict_values(['Saranya', 'Tammana', 'F', '26', 'M', ['Java', 'SQL', 'Python', 'HTML'], 'US', 'KC', {'street': 'Metcalf ave', 'zipcode': '66223'}])\n"
     ]
    }
   ],
   "source": [
    "#Q2.\n",
    "\n",
    "dog = {}\n",
    "\n",
    "dog = {'name':'browny', 'color':'brown', 'breed':'pug', 'legs':'4', 'age':'3'}\n",
    "print(dog)\n",
    "\n",
    "student_dictionary = { 'first_name':'Saranya', 'last_name':'Tammana', 'gender':'F', 'age':'26',\n",
    "                          'marital status':'M', 'skills':['Java', 'SQL', 'Python'],\n",
    "                       'country':'US', 'city':'KC',\n",
    "                        'address':{\n",
    "                                'street':'Metcalf ave',\n",
    "                                'zipcode':'66223'\n",
    "                      }}\n",
    "print(\"student_dictionary:\",student_dictionary)\n",
    "print(len(student_dictionary))\n",
    "\n",
    "\n",
    "print(student_dictionary['skills'])\n",
    "print(type(student_dictionary['skills']))\n",
    "\n",
    "student_dictionary['skills'].append('HTML')\n",
    "print(student_dictionary)\n",
    "\n",
    "print(student_dictionary.keys())\n",
    "\n",
    "print(student_dictionary.values())\n",
    "\n"
   ]
  },
  {
   "cell_type": "code",
   "execution_count": 9,
   "id": "78d39754",
   "metadata": {},
   "outputs": [
    {
     "name": "stdout",
     "output_type": "stream",
     "text": [
      "('Sam', 'Santu', 'Sind', 'Siri', 'Meera')\n",
      "5\n",
      "('Sam', 'Santu', 'Sind', 'Siri', 'Meera', 'Sree', 'Jyo')\n"
     ]
    }
   ],
   "source": [
    "#Q3.\n",
    "\n",
    "brothers = ( 'Sam', 'Santu')\n",
    "sisters = ('Sind', 'Siri','Meera')\n",
    "siblings = brothers + sisters\n",
    "print(siblings)\n",
    "print(len(siblings))\n",
    "family_members = siblings + ('Sree','Jyo',)\n",
    "print(family_members)\n",
    "#  Tuple is immutable, hence cannot modify values in siblings tuple"
   ]
  },
  {
   "cell_type": "code",
   "execution_count": 11,
   "id": "b63594eb",
   "metadata": {},
   "outputs": [
    {
     "name": "stdout",
     "output_type": "stream",
     "text": [
      "7\n",
      "{'Facebook', 'Twitter', 'Apple', 'Oracle', 'IBM', 'Google', 'Microsoft', 'Amazon'}\n",
      "{'Deloitte', 'Oracle', 'IBM', 'Google', 'Amazon', 'Facebook', 'Microsoft', 'United', 'Mindtree', 'Apple', 'TCS', 'Twitter'}\n",
      "{'Deloitte', 'Oracle', 'IBM', 'Google', 'Amazon', 'Facebook', 'Microsoft', 'United', 'Mindtree', 'Apple', 'Twitter'}\n",
      "{19, 20, 22, 24, 25, 26, 27, 28}\n",
      "{19, 20, 22, 24, 25, 26}\n",
      "True\n",
      "False\n",
      "{19, 20, 22, 24, 25, 26, 27, 28}\n",
      "{19, 20, 22, 24, 25, 26, 27, 28}\n",
      "{27, 28}\n",
      "set()\n",
      "set()\n",
      "8\n",
      "5\n"
     ]
    }
   ],
   "source": [
    "#Q4.\n",
    "\n",
    "it_companies = {'Facebook', 'Google', 'Microsoft', 'Apple', 'IBM', 'Oracle', 'Amazon'}\n",
    "A = {19, 22, 24, 20, 25, 26}\n",
    "B = {19, 22, 20, 25, 26, 24, 28, 27}\n",
    "age = [22, 19, 24, 25, 26, 24, 25, 24]\n",
    "\n",
    "print(len(it_companies))\n",
    "\n",
    "it_companies.add('Twitter')\n",
    "print(it_companies)\n",
    "it_companies.update(['Mindtree','Deloitte','TCS','United'])\n",
    "print(it_companies)\n",
    "it_companies.remove('TCS')\n",
    "print(it_companies)\n",
    "\n",
    "#discard() function will remove the specified element.\n",
    "#remove() function will also the remove the specified element.\n",
    "#The difference between discard() and remove() functions is that remove() function will raise an error if the specified element does not exist where as discard() function will not.\n",
    "\n",
    "print(A.union(B))\n",
    "print(A.intersection(B))\n",
    "print(A.issubset(B))\n",
    "print(A.isdisjoint(B))\n",
    "AB = A.union(B)\n",
    "print(AB)\n",
    "BA = B.union(A)\n",
    "print(BA)\n",
    "print(A.symmetric_difference(B))\n",
    "A.clear()\n",
    "B.clear()\n",
    "print(A)\n",
    "print(B)\n",
    "\n",
    "ages_set = set(age)\n",
    "print(len(age))\n",
    "print(len(ages_set))"
   ]
  },
  {
   "cell_type": "code",
   "execution_count": 23,
   "id": "64a05f3a",
   "metadata": {},
   "outputs": [
    {
     "name": "stdout",
     "output_type": "stream",
     "text": [
      "Circle area is 2826.0\n",
      "Circle circumference is 188.4\n",
      "Enter radius:\n",
      "10\n",
      "Circle area is 314.0\n"
     ]
    }
   ],
   "source": [
    "#Q5.\n",
    "\n",
    "radius=30\n",
    "\n",
    "area_of_circle = (3.14) * ((radius)**2)\n",
    "print('Circle area is',area_of_circle)\n",
    "circum_of_circle = 2 * (3.14) * (radius)\n",
    "print('Circle circumference is',circum_of_circle)\n",
    "\n",
    "\n",
    "print('Enter radius:')\n",
    "radius= input()\n",
    "area_of_circle = (3.14) * (int(radius)**2)\n",
    "print('Circle area is',area_of_circle)\n"
   ]
  },
  {
   "cell_type": "code",
   "execution_count": 15,
   "id": "c409b61d",
   "metadata": {},
   "outputs": [
    {
     "name": "stdout",
     "output_type": "stream",
     "text": [
      "10\n",
      "{'teach', 'people', 'love', 'am', 'inspire', 'a', 'teacher', 'to', 'I', 'and'}\n"
     ]
    }
   ],
   "source": [
    "#Q6.\n",
    "\n",
    "sentence = 'I am a teacher and I love to inspire and teach people'\n",
    "\n",
    "sentence_set = set((sentence.split(\" \")))\n",
    "\n",
    "print(len(sentence_set))\n",
    "print(sentence_set)\n"
   ]
  },
  {
   "cell_type": "code",
   "execution_count": 14,
   "id": "263b93d4",
   "metadata": {},
   "outputs": [
    {
     "name": "stdout",
     "output_type": "stream",
     "text": [
      "Name\tAge\tCountry\tCity\n",
      "Asabeneh 250\tFinland\tHelsinki\n"
     ]
    }
   ],
   "source": [
    "#Q7.\n",
    "\n",
    "print('Name\\tAge\\tCountry\\tCity\\n''Asabeneh 250\\tFinland\\tHelsinki')"
   ]
  },
  {
   "cell_type": "code",
   "execution_count": 16,
   "id": "0642ead7",
   "metadata": {},
   "outputs": [
    {
     "name": "stdout",
     "output_type": "stream",
     "text": [
      "The area of a circle with radius 10 is 314 meters square\n"
     ]
    }
   ],
   "source": [
    "#Q8.\n",
    "\n",
    "radius = 10\n",
    "area =  3.14 * radius ** 2\n",
    "\n",
    "print('The area of a circle with radius 10 is {} meters square'.format(int(area)))"
   ]
  },
  {
   "cell_type": "code",
   "execution_count": 2,
   "id": "be8ec9f8",
   "metadata": {},
   "outputs": [
    {
     "name": "stdout",
     "output_type": "stream",
     "text": [
      "Enter the number of students:\n",
      "3\n",
      "Enter weight of student 1:\n",
      "145\n",
      "Enter weight of student 2:\n",
      "100\n",
      "Enter weight of student 3:\n",
      "167\n",
      "[65.77, 45.36, 75.75]\n"
     ]
    }
   ],
   "source": [
    "#Q9.\n",
    "\n",
    "weight_lbs=[]\n",
    "weight_kgs=[]\n",
    "\n",
    "print('Enter the number of students:')\n",
    "N=int(input())\n",
    "\n",
    "#1lb = 0.453592 kg\n",
    "x=1\n",
    "while x<=N:\n",
    "      print('Enter weight of student {}:'.format(int(x)))\n",
    "      weight=int(input())\n",
    "      weight_lbs.append(weight)\n",
    "      x=x+1  \n",
    "    \n",
    "#Converting lbs to kgs list\n",
    "for i in range(0,N):\n",
    "       weight=weight_lbs[i]*0.453592\n",
    "       weight_kgs.append(round(weight,2))\n",
    "\n",
    "print(weight_kgs)"
   ]
  },
  {
   "cell_type": "code",
   "execution_count": 6,
   "id": "aee137c6",
   "metadata": {},
   "outputs": [
    {
     "name": "stdout",
     "output_type": "stream",
     "text": [
      "Dataset: \n",
      " [[ 1  0]\n",
      " [ 2  0]\n",
      " [ 3  0]\n",
      " [ 6  0]\n",
      " [ 6  0]\n",
      " [ 7  0]\n",
      " [10  0]\n",
      " [11  0]]\n",
      "\n",
      " Class label for the dataset Y: [0 0 1 1 1 0 0 0]\n",
      "\n",
      "X Training Data : \n",
      " [[1 0]\n",
      " [2 0]\n",
      " [3 0]\n",
      " [6 0]]\n",
      "\n",
      "Y Training Data : [0 0 1 1]\n",
      "\n",
      "Predicted class labels for Y testing data : [1 1 1 1]\n",
      "\n",
      "Confusion Matrix: [[0 3]\n",
      " [0 1]]\n",
      "\n",
      "Accuracy =  0.25\n",
      "Sensitivity =  1.0\n",
      "Specificity =  0.0\n"
     ]
    }
   ],
   "source": [
    "#Q10.\n",
    "\n",
    "import pandas as pds \n",
    "import numpy as num   \n",
    "from sklearn.neighbors import KNeighborsClassifier \n",
    "from sklearn.metrics import confusion_matrix \n",
    "from sklearn.model_selection import train_test_split  \n",
    "from sklearn.preprocessing import StandardScaler \n",
    "\n",
    "X= num.array([[1,0],[2,0],[3,0],[6,0],[6,0],[7,0],[10,0],[11,0]])\n",
    "print(\"Dataset: \\n\",X)\n",
    "Y = num.array([0,0,1,1,1,0,0,0])\n",
    "print(\"\\n Class label for the dataset Y:\",Y)\n",
    "train_x, test_x, train_y, test_y= train_test_split(X, Y, test_size= 0.50, random_state=0,shuffle=False ) \n",
    "print(\"\\nX Training Data : \\n\", train_x)\n",
    "print(\"\\nY Training Data :\", train_y)\n",
    "\n",
    "#Standardizing the data prior to performing classification \n",
    "stand_scalar= StandardScaler()    \n",
    "train_x= stand_scalar.fit_transform(train_x)    \n",
    "test_x= stand_scalar.transform(test_x) \n",
    "\n",
    "# KNN Classifier for k=3\n",
    "classifier= KNeighborsClassifier(n_neighbors=3)  \n",
    "#Fitting the data to classifier\n",
    "classifier.fit(train_x, train_y)\n",
    "#Predicting labels for x-test data\n",
    "prediction= classifier.predict(test_x) \n",
    "print('\\nPredicted class labels for Y testing data :',prediction)\n",
    "     \n",
    "#Confusion matrix with tested data\n",
    "confusion_matrix = confusion_matrix(test_y, prediction)\n",
    "print(\"\\nConfusion Matrix:\",confusion_matrix)\n",
    "\n",
    "#total P+N can be calculated using sum(sum(conf_matrix))\n",
    "total = sum(sum(confusion_matrix))\n",
    "#Accuracy TN+TP / P+N\n",
    "accuracy=(confusion_matrix[0,0]+confusion_matrix[1,1])/total\n",
    "print ('\\nAccuracy = ', accuracy)\n",
    "\n",
    "#Sensitivity TP/(TP+FN)\n",
    "sensitivity = confusion_matrix[1,1]/(confusion_matrix[1,0]+confusion_matrix[1,1])\n",
    "print('Sensitivity = ', sensitivity )\n",
    "\n",
    "#Specificity TN/(TN+FP)\n",
    "specificity = confusion_matrix[0,0]/(confusion_matrix[0,0]+confusion_matrix[0,1])\n",
    "print('Specificity = ', specificity)\n"
   ]
  },
  {
   "cell_type": "code",
   "execution_count": null,
   "id": "b20aab4f",
   "metadata": {},
   "outputs": [],
   "source": []
  }
 ],
 "metadata": {
  "kernelspec": {
   "display_name": "Python 3 (ipykernel)",
   "language": "python",
   "name": "python3"
  },
  "language_info": {
   "codemirror_mode": {
    "name": "ipython",
    "version": 3
   },
   "file_extension": ".py",
   "mimetype": "text/x-python",
   "name": "python",
   "nbconvert_exporter": "python",
   "pygments_lexer": "ipython3",
   "version": "3.10.6"
  }
 },
 "nbformat": 4,
 "nbformat_minor": 5
}
